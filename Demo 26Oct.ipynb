{
 "cells": [
  {
   "cell_type": "code",
   "execution_count": 14,
   "id": "9337afba",
   "metadata": {},
   "outputs": [
    {
     "ename": "SyntaxError",
     "evalue": "can't assign to literal (2800331774.py, line 1)",
     "output_type": "error",
     "traceback": [
      "\u001b[1;36m  File \u001b[1;32m\"C:\\Users\\Shashank Shekhar\\AppData\\Local\\Temp\\ipykernel_16192\\2800331774.py\"\u001b[1;36m, line \u001b[1;32m1\u001b[0m\n\u001b[1;33m    1=10\u001b[0m\n\u001b[1;37m        ^\u001b[0m\n\u001b[1;31mSyntaxError\u001b[0m\u001b[1;31m:\u001b[0m can't assign to literal\n"
     ]
    }
   ],
   "source": [
    "1=10"
   ]
  },
  {
   "cell_type": "code",
   "execution_count": 17,
   "id": "3b3e6227",
   "metadata": {},
   "outputs": [],
   "source": [
    "a_b =10"
   ]
  },
  {
   "cell_type": "code",
   "execution_count": 21,
   "id": "2585145f",
   "metadata": {},
   "outputs": [
    {
     "ename": "SyntaxError",
     "evalue": "invalid syntax (2029521685.py, line 3)",
     "output_type": "error",
     "traceback": [
      "\u001b[1;36m  File \u001b[1;32m\"C:\\Users\\Shashank Shekhar\\AppData\\Local\\Temp\\ipykernel_16192\\2029521685.py\"\u001b[1;36m, line \u001b[1;32m3\u001b[0m\n\u001b[1;33m    try = 10\u001b[0m\n\u001b[1;37m        ^\u001b[0m\n\u001b[1;31mSyntaxError\u001b[0m\u001b[1;31m:\u001b[0m invalid syntax\n"
     ]
    }
   ],
   "source": [
    "#33 - Built In Functions\n",
    "\n",
    "try = 10"
   ]
  },
  {
   "cell_type": "code",
   "execution_count": 22,
   "id": "a59faa4f",
   "metadata": {},
   "outputs": [],
   "source": [
    "name='Shashank'"
   ]
  },
  {
   "cell_type": "code",
   "execution_count": 23,
   "id": "12e9c1b5",
   "metadata": {},
   "outputs": [
    {
     "name": "stdout",
     "output_type": "stream",
     "text": [
      "Shashank\n"
     ]
    }
   ],
   "source": [
    "print(name)"
   ]
  },
  {
   "cell_type": "code",
   "execution_count": null,
   "id": "d18f69f1",
   "metadata": {},
   "outputs": [],
   "source": []
  }
 ],
 "metadata": {
  "kernelspec": {
   "display_name": "Python 3 (ipykernel)",
   "language": "python",
   "name": "python3"
  },
  "language_info": {
   "codemirror_mode": {
    "name": "ipython",
    "version": 3
   },
   "file_extension": ".py",
   "mimetype": "text/x-python",
   "name": "python",
   "nbconvert_exporter": "python",
   "pygments_lexer": "ipython3",
   "version": "3.7.4"
  }
 },
 "nbformat": 4,
 "nbformat_minor": 5
}
