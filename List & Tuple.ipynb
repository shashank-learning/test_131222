{
 "cells": [
  {
   "cell_type": "markdown",
   "id": "73d5a399",
   "metadata": {},
   "source": [
    "### List"
   ]
  },
  {
   "cell_type": "markdown",
   "id": "298b481c",
   "metadata": {},
   "source": [
    "1. List is a sequence datatype\n",
    "2. Elements in list can be of heterogenous type\n",
    "3. It is similar to that of array, but there is a difference in them\n",
    "4. It is represented with the help of []"
   ]
  },
  {
   "cell_type": "markdown",
   "id": "26eebbd9",
   "metadata": {},
   "source": [
    "## How to create a list"
   ]
  },
  {
   "cell_type": "code",
   "execution_count": 14,
   "id": "dfed0345",
   "metadata": {},
   "outputs": [],
   "source": [
    "# 1st Method\n",
    "\n",
    "list1 = []"
   ]
  },
  {
   "cell_type": "code",
   "execution_count": 15,
   "id": "c6a1e4d4",
   "metadata": {},
   "outputs": [
    {
     "name": "stdout",
     "output_type": "stream",
     "text": [
      "[]\n"
     ]
    }
   ],
   "source": [
    "print(list1)"
   ]
  },
  {
   "cell_type": "code",
   "execution_count": 16,
   "id": "e7880de8",
   "metadata": {},
   "outputs": [],
   "source": [
    "# 2nd Method\n",
    "\n",
    "l = list()"
   ]
  },
  {
   "cell_type": "code",
   "execution_count": 17,
   "id": "5df71a8e",
   "metadata": {},
   "outputs": [
    {
     "name": "stdout",
     "output_type": "stream",
     "text": [
      "[]\n"
     ]
    }
   ],
   "source": [
    "print(l)"
   ]
  },
  {
   "cell_type": "code",
   "execution_count": 18,
   "id": "addee22a",
   "metadata": {},
   "outputs": [],
   "source": [
    "list1=[1,2,3,4,5,6,7,8]"
   ]
  },
  {
   "cell_type": "code",
   "execution_count": 19,
   "id": "085036e7",
   "metadata": {},
   "outputs": [
    {
     "name": "stdout",
     "output_type": "stream",
     "text": [
      "[1, 2, 3, 4, 5, 6, 7, 8]\n"
     ]
    }
   ],
   "source": [
    "print(list1)"
   ]
  },
  {
   "cell_type": "code",
   "execution_count": 1,
   "id": "424b9bd0",
   "metadata": {},
   "outputs": [],
   "source": [
    "list1 = ['python','DSEU',1,2,3,4.5,6.75, True]"
   ]
  },
  {
   "cell_type": "code",
   "execution_count": 2,
   "id": "34e3a115",
   "metadata": {},
   "outputs": [
    {
     "name": "stdout",
     "output_type": "stream",
     "text": [
      "['python', 'DSEU', 1, 2, 3, 4.5, 6.75, True]\n"
     ]
    }
   ],
   "source": [
    "print(list1)"
   ]
  },
  {
   "cell_type": "markdown",
   "id": "34c4c615",
   "metadata": {},
   "source": [
    "### How to access an element in the list"
   ]
  },
  {
   "cell_type": "code",
   "execution_count": 3,
   "id": "d6dc2c50",
   "metadata": {},
   "outputs": [
    {
     "data": {
      "text/plain": [
       "'DSEU'"
      ]
     },
     "execution_count": 3,
     "metadata": {},
     "output_type": "execute_result"
    }
   ],
   "source": [
    "list1[1]"
   ]
  },
  {
   "cell_type": "code",
   "execution_count": 23,
   "id": "d4dcd6e4",
   "metadata": {},
   "outputs": [
    {
     "data": {
      "text/plain": [
       "True"
      ]
     },
     "execution_count": 23,
     "metadata": {},
     "output_type": "execute_result"
    }
   ],
   "source": [
    "list1[-1]"
   ]
  },
  {
   "cell_type": "code",
   "execution_count": 24,
   "id": "654d8206",
   "metadata": {},
   "outputs": [
    {
     "data": {
      "text/plain": [
       "8"
      ]
     },
     "execution_count": 24,
     "metadata": {},
     "output_type": "execute_result"
    }
   ],
   "source": [
    "len(list1)"
   ]
  },
  {
   "cell_type": "code",
   "execution_count": 4,
   "id": "52dfc4ff",
   "metadata": {},
   "outputs": [
    {
     "data": {
      "text/plain": [
       "2"
      ]
     },
     "execution_count": 4,
     "metadata": {},
     "output_type": "execute_result"
    }
   ],
   "source": [
    "list1[3]"
   ]
  },
  {
   "cell_type": "code",
   "execution_count": 6,
   "id": "fd2ecc36",
   "metadata": {},
   "outputs": [],
   "source": [
    "list2=[1,2,3,4,5,6,7,8,9,10,11,'String','Python','Program','DSEU','Virat',\n",
    "       'Dhoni',4.65,8.9,True,False,100]"
   ]
  },
  {
   "cell_type": "code",
   "execution_count": 8,
   "id": "d9b84d67",
   "metadata": {},
   "outputs": [
    {
     "name": "stdout",
     "output_type": "stream",
     "text": [
      "[1, 2, 3, 4, 5, 6, 7, 8, 9, 10, 11, 'String', 'Python', 'Program', 'DSEU', 'Virat', 'Dhoni', 4.65, 8.9, True, False, 100]\n"
     ]
    }
   ],
   "source": [
    "print(list2)"
   ]
  },
  {
   "cell_type": "markdown",
   "id": "fe5a0118",
   "metadata": {},
   "source": [
    "### SLice the cricketers name from the list"
   ]
  },
  {
   "cell_type": "markdown",
   "id": "2d102585",
   "metadata": {},
   "source": [
    "## Syntax\n",
    "\n",
    "variable_name = [start_value : end_value]"
   ]
  },
  {
   "cell_type": "code",
   "execution_count": 11,
   "id": "50e2e8e3",
   "metadata": {},
   "outputs": [
    {
     "data": {
      "text/plain": [
       "['Virat', 'Dhoni']"
      ]
     },
     "execution_count": 11,
     "metadata": {},
     "output_type": "execute_result"
    }
   ],
   "source": [
    "list2[15:17]"
   ]
  },
  {
   "cell_type": "code",
   "execution_count": 14,
   "id": "3ea72ae7",
   "metadata": {},
   "outputs": [
    {
     "name": "stdout",
     "output_type": "stream",
     "text": [
      "[100, False, True, 8.9, 4.65, 'Dhoni', 'Virat', 'DSEU', 'Program', 'Python', 'String', 11, 10, 9, 8, 7, 6, 5, 4, 3, 2, 1]\n"
     ]
    }
   ],
   "source": [
    "print(list2[::-1])"
   ]
  },
  {
   "cell_type": "markdown",
   "id": "9e3434df",
   "metadata": {},
   "source": [
    "### Operators"
   ]
  },
  {
   "cell_type": "markdown",
   "id": "d74cdca6",
   "metadata": {},
   "source": [
    "##### 1. Arithmetic Operators -: +, - , * , / , //, %"
   ]
  },
  {
   "cell_type": "code",
   "execution_count": 16,
   "id": "80fd3ccf",
   "metadata": {},
   "outputs": [
    {
     "name": "stdout",
     "output_type": "stream",
     "text": [
      "Enter the Number 1 : 2\n",
      "Enter the Number 2 : 1\n",
      "The sum of 2 & 1 is 3\n"
     ]
    }
   ],
   "source": [
    "# 1. Addition\n",
    "\n",
    "a = int(input('Enter the Number 1 : '))\n",
    "b = int(input('Enter the Number 2 : '))\n",
    "c=a+b\n",
    "print(f'The sum of {a} & {b} is {c}')"
   ]
  },
  {
   "cell_type": "code",
   "execution_count": 19,
   "id": "c8bdacd8",
   "metadata": {},
   "outputs": [
    {
     "name": "stdout",
     "output_type": "stream",
     "text": [
      "Enter the Number 1 : 5\n",
      "Enter the Number 2 : 1\n",
      "The difference between 5 & 1 is 4\n"
     ]
    }
   ],
   "source": [
    "# 2. Subtraction\n",
    "\n",
    "a = int(input('Enter the Number 1 : '))\n",
    "b = int(input('Enter the Number 2 : '))\n",
    "c=a-b\n",
    "print(f'The difference between {a} & {b} is {c}')"
   ]
  },
  {
   "cell_type": "code",
   "execution_count": 20,
   "id": "1e3fa5f5",
   "metadata": {},
   "outputs": [
    {
     "name": "stdout",
     "output_type": "stream",
     "text": [
      "Enter the Number 1 : 8\n",
      "Enter the Number 2 : 5\n",
      "The product of 8 & 5 is 40\n"
     ]
    }
   ],
   "source": [
    "# 3. Multiplication\n",
    "\n",
    "a = int(input('Enter the Number 1 : '))\n",
    "b = int(input('Enter the Number 2 : '))\n",
    "c=a*b\n",
    "print(f'The product of {a} & {b} is {c}')"
   ]
  },
  {
   "cell_type": "code",
   "execution_count": 22,
   "id": "dcad34d4",
   "metadata": {},
   "outputs": [
    {
     "name": "stdout",
     "output_type": "stream",
     "text": [
      "Enter the Number 1 : 10\n",
      "Enter the Number 2 : 2\n",
      "The division of 10 & 2 is 5.0\n"
     ]
    }
   ],
   "source": [
    "# 4. Division (/ - Integer Division)\n",
    "\n",
    "a = int(input('Enter the Number 1 : '))\n",
    "b = int(input('Enter the Number 2 : '))\n",
    "c=a/b\n",
    "print(f'The division of {a} & {b} is {c}')"
   ]
  },
  {
   "cell_type": "code",
   "execution_count": 25,
   "id": "0763496a",
   "metadata": {},
   "outputs": [
    {
     "name": "stdout",
     "output_type": "stream",
     "text": [
      "Enter the Number 1 : 10\n",
      "Enter the Number 2 : 4\n",
      "The division of 10 & 4 is 2\n"
     ]
    }
   ],
   "source": [
    "# 5. Division (// - Floor Division)\n",
    "\n",
    "a = int(input('Enter the Number 1 : '))\n",
    "b = int(input('Enter the Number 2 : '))\n",
    "c=a//b\n",
    "print(f'The division of {a} & {b} is {c}')"
   ]
  },
  {
   "cell_type": "code",
   "execution_count": 27,
   "id": "74b5d977",
   "metadata": {},
   "outputs": [
    {
     "name": "stdout",
     "output_type": "stream",
     "text": [
      "Enter the Number 1 : 9\n",
      "Enter the Number 2 : 2\n",
      "The remainder of 9 & 2 is 1\n"
     ]
    }
   ],
   "source": [
    "# 6. Modulo (%)\n",
    "\n",
    "a = int(input('Enter the Number 1 : '))\n",
    "b = int(input('Enter the Number 2 : '))\n",
    "c=a%b\n",
    "print(f'The remainder of {a} & {b} is {c}')"
   ]
  },
  {
   "cell_type": "markdown",
   "id": "c26eb55e",
   "metadata": {},
   "source": [
    "#### There are two Arithmetic Operators that we apply on any Sequence \n",
    "\n",
    "1. Addition('+') - Concatenation\n",
    "2. Multiplication('*') - Repeation"
   ]
  },
  {
   "cell_type": "code",
   "execution_count": 28,
   "id": "17266235",
   "metadata": {},
   "outputs": [
    {
     "name": "stdout",
     "output_type": "stream",
     "text": [
      "[1, 2, 3, 4, 5, 11, 22, 33, 44, 55]\n"
     ]
    }
   ],
   "source": [
    "## Example of Concatenation\n",
    "\n",
    "list1 = [1,2,3,4,5]\n",
    "list2 = [11,22,33,44,55]\n",
    "\n",
    "list3 = list1+list2\n",
    "\n",
    "print(list3)"
   ]
  },
  {
   "cell_type": "code",
   "execution_count": 31,
   "id": "728d52bd",
   "metadata": {},
   "outputs": [
    {
     "name": "stdout",
     "output_type": "stream",
     "text": [
      "Vishal Mittal\n"
     ]
    }
   ],
   "source": [
    "## Example of Concatenation on String\n",
    "\n",
    "a = 'Vishal'\n",
    "b = ' Mittal'\n",
    "\n",
    "c = a+b\n",
    "\n",
    "print(c)"
   ]
  },
  {
   "cell_type": "code",
   "execution_count": 33,
   "id": "33a7d12e",
   "metadata": {},
   "outputs": [
    {
     "name": "stdout",
     "output_type": "stream",
     "text": [
      "[1, 2, 3, 1, 2, 3, 1, 2, 3, 1, 2, 3, 1, 2, 3, 1, 2, 3, 1, 2, 3, 1, 2, 3, 1, 2, 3, 1, 2, 3, 1, 2, 3, 1, 2, 3, 1, 2, 3, 1, 2, 3, 1, 2, 3]\n"
     ]
    }
   ],
   "source": [
    "## Repeation\n",
    "\n",
    "list4 = [1,2,3]\n",
    "\n",
    "list5 = list4*15\n",
    "\n",
    "print(list5)"
   ]
  },
  {
   "cell_type": "code",
   "execution_count": 35,
   "id": "9661725a",
   "metadata": {},
   "outputs": [
    {
     "name": "stdout",
     "output_type": "stream",
     "text": [
      " Vishal Vishal\n"
     ]
    }
   ],
   "source": [
    "a = ' Vishal'\n",
    "\n",
    "b =  a*2\n",
    "\n",
    "print(b)"
   ]
  },
  {
   "cell_type": "code",
   "execution_count": 36,
   "id": "493b7be2",
   "metadata": {},
   "outputs": [
    {
     "data": {
      "text/plain": [
       "14"
      ]
     },
     "execution_count": 36,
     "metadata": {},
     "output_type": "execute_result"
    }
   ],
   "source": [
    "len(b)"
   ]
  },
  {
   "cell_type": "markdown",
   "id": "7ae191a8",
   "metadata": {},
   "source": [
    "### Update the value in the list"
   ]
  },
  {
   "cell_type": "code",
   "execution_count": 37,
   "id": "c53b5f89",
   "metadata": {},
   "outputs": [],
   "source": [
    "str1 = 'Python'"
   ]
  },
  {
   "cell_type": "code",
   "execution_count": 38,
   "id": "8e2fd506",
   "metadata": {},
   "outputs": [
    {
     "ename": "TypeError",
     "evalue": "'str' object does not support item assignment",
     "output_type": "error",
     "traceback": [
      "\u001b[1;31m---------------------------------------------------------------------------\u001b[0m",
      "\u001b[1;31mTypeError\u001b[0m                                 Traceback (most recent call last)",
      "\u001b[1;32m~\\AppData\\Local\\Temp\\ipykernel_16172\\2308632621.py\u001b[0m in \u001b[0;36m<module>\u001b[1;34m\u001b[0m\n\u001b[1;32m----> 1\u001b[1;33m \u001b[0mstr1\u001b[0m\u001b[1;33m[\u001b[0m\u001b[1;36m0\u001b[0m\u001b[1;33m]\u001b[0m\u001b[1;33m=\u001b[0m\u001b[1;34m'p'\u001b[0m\u001b[1;33m\u001b[0m\u001b[1;33m\u001b[0m\u001b[0m\n\u001b[0m",
      "\u001b[1;31mTypeError\u001b[0m: 'str' object does not support item assignment"
     ]
    }
   ],
   "source": [
    "str1[0]='p'"
   ]
  },
  {
   "cell_type": "code",
   "execution_count": 39,
   "id": "a18d65e8",
   "metadata": {},
   "outputs": [],
   "source": [
    "list6=[1,2,3,4,5,6,7,8,9,10,11,'String','Python','Program','DSEU','Virat',\n",
    "       'Dhoni',4.65,8.9,True,False,100]"
   ]
  },
  {
   "cell_type": "code",
   "execution_count": 40,
   "id": "fd7b29f9",
   "metadata": {},
   "outputs": [],
   "source": [
    "list6[-5]='Sachin'"
   ]
  },
  {
   "cell_type": "code",
   "execution_count": 41,
   "id": "6328f8b1",
   "metadata": {},
   "outputs": [
    {
     "name": "stdout",
     "output_type": "stream",
     "text": [
      "[1, 2, 3, 4, 5, 6, 7, 8, 9, 10, 11, 'String', 'Python', 'Program', 'DSEU', 'Virat', 'Dhoni', 'Sachin', 8.9, True, False, 100]\n"
     ]
    }
   ],
   "source": [
    "print(list6)"
   ]
  },
  {
   "cell_type": "markdown",
   "id": "dd969996",
   "metadata": {},
   "source": [
    "- List is a mutable sequence datatype"
   ]
  },
  {
   "cell_type": "code",
   "execution_count": 44,
   "id": "d95e88de",
   "metadata": {},
   "outputs": [
    {
     "data": {
      "text/plain": [
       "['__add__',\n",
       " '__class__',\n",
       " '__contains__',\n",
       " '__delattr__',\n",
       " '__delitem__',\n",
       " '__dir__',\n",
       " '__doc__',\n",
       " '__eq__',\n",
       " '__format__',\n",
       " '__ge__',\n",
       " '__getattribute__',\n",
       " '__getitem__',\n",
       " '__gt__',\n",
       " '__hash__',\n",
       " '__iadd__',\n",
       " '__imul__',\n",
       " '__init__',\n",
       " '__init_subclass__',\n",
       " '__iter__',\n",
       " '__le__',\n",
       " '__len__',\n",
       " '__lt__',\n",
       " '__mul__',\n",
       " '__ne__',\n",
       " '__new__',\n",
       " '__reduce__',\n",
       " '__reduce_ex__',\n",
       " '__repr__',\n",
       " '__reversed__',\n",
       " '__rmul__',\n",
       " '__setattr__',\n",
       " '__setitem__',\n",
       " '__sizeof__',\n",
       " '__str__',\n",
       " '__subclasshook__',\n",
       " 'append',\n",
       " 'clear',\n",
       " 'copy',\n",
       " 'count',\n",
       " 'extend',\n",
       " 'index',\n",
       " 'insert',\n",
       " 'pop',\n",
       " 'remove',\n",
       " 'reverse',\n",
       " 'sort']"
      ]
     },
     "execution_count": 44,
     "metadata": {},
     "output_type": "execute_result"
    }
   ],
   "source": [
    "dir(list)"
   ]
  },
  {
   "cell_type": "code",
   "execution_count": 45,
   "id": "7457a4ca",
   "metadata": {},
   "outputs": [],
   "source": [
    "list?"
   ]
  },
  {
   "cell_type": "markdown",
   "id": "7dbeb9be",
   "metadata": {},
   "source": [
    "## Tuple"
   ]
  },
  {
   "cell_type": "markdown",
   "id": "aea6e73c",
   "metadata": {},
   "source": [
    "1. Tuple is sequence datatype\n",
    "2. It is immutable datatype\n",
    "3. It is represented with ()\n"
   ]
  },
  {
   "cell_type": "code",
   "execution_count": 46,
   "id": "b93dd2ad",
   "metadata": {},
   "outputs": [],
   "source": [
    "## 1st Method\n",
    "\n",
    "tup1 = ()"
   ]
  },
  {
   "cell_type": "code",
   "execution_count": 47,
   "id": "70e6c4c3",
   "metadata": {},
   "outputs": [
    {
     "name": "stdout",
     "output_type": "stream",
     "text": [
      "()\n"
     ]
    }
   ],
   "source": [
    "print(tup1)"
   ]
  },
  {
   "cell_type": "code",
   "execution_count": 48,
   "id": "ca4b1776",
   "metadata": {},
   "outputs": [
    {
     "data": {
      "text/plain": [
       "tuple"
      ]
     },
     "execution_count": 48,
     "metadata": {},
     "output_type": "execute_result"
    }
   ],
   "source": [
    "type(tup1)"
   ]
  },
  {
   "cell_type": "code",
   "execution_count": 49,
   "id": "5e2170db",
   "metadata": {},
   "outputs": [],
   "source": [
    "## 2nd Method\n",
    "\n",
    "tup2 = tuple()"
   ]
  },
  {
   "cell_type": "code",
   "execution_count": 50,
   "id": "3a72e8c8",
   "metadata": {},
   "outputs": [
    {
     "name": "stdout",
     "output_type": "stream",
     "text": [
      "()\n"
     ]
    }
   ],
   "source": [
    "print(tup2)"
   ]
  },
  {
   "cell_type": "code",
   "execution_count": 51,
   "id": "7cc3bc2e",
   "metadata": {},
   "outputs": [
    {
     "data": {
      "text/plain": [
       "tuple"
      ]
     },
     "execution_count": 51,
     "metadata": {},
     "output_type": "execute_result"
    }
   ],
   "source": [
    "type(tup2)"
   ]
  },
  {
   "cell_type": "code",
   "execution_count": 52,
   "id": "60a08d05",
   "metadata": {},
   "outputs": [],
   "source": [
    "tup3 = (1,2,3,4,'apple','mango','Dhoni','Virat',4.5)"
   ]
  },
  {
   "cell_type": "code",
   "execution_count": 53,
   "id": "4aa869d9",
   "metadata": {},
   "outputs": [
    {
     "name": "stdout",
     "output_type": "stream",
     "text": [
      "(1, 2, 3, 4, 'apple', 'mango', 'Dhoni', 'Virat', 4.5)\n"
     ]
    }
   ],
   "source": [
    "print(tup3)"
   ]
  },
  {
   "cell_type": "code",
   "execution_count": 54,
   "id": "e90c186d",
   "metadata": {},
   "outputs": [
    {
     "data": {
      "text/plain": [
       "'Dhoni'"
      ]
     },
     "execution_count": 54,
     "metadata": {},
     "output_type": "execute_result"
    }
   ],
   "source": [
    "tup3[6]"
   ]
  },
  {
   "cell_type": "code",
   "execution_count": 55,
   "id": "870a8587",
   "metadata": {},
   "outputs": [
    {
     "data": {
      "text/plain": [
       "(3, 4, 'apple', 'mango')"
      ]
     },
     "execution_count": 55,
     "metadata": {},
     "output_type": "execute_result"
    }
   ],
   "source": [
    "tup3[2:6]"
   ]
  },
  {
   "cell_type": "markdown",
   "id": "450974c8",
   "metadata": {},
   "source": [
    "### How to change the value in the Tuple"
   ]
  },
  {
   "cell_type": "code",
   "execution_count": 56,
   "id": "210e7a01",
   "metadata": {},
   "outputs": [
    {
     "ename": "TypeError",
     "evalue": "'tuple' object does not support item assignment",
     "output_type": "error",
     "traceback": [
      "\u001b[1;31m---------------------------------------------------------------------------\u001b[0m",
      "\u001b[1;31mTypeError\u001b[0m                                 Traceback (most recent call last)",
      "\u001b[1;32m~\\AppData\\Local\\Temp\\ipykernel_16172\\2318177843.py\u001b[0m in \u001b[0;36m<module>\u001b[1;34m\u001b[0m\n\u001b[1;32m----> 1\u001b[1;33m \u001b[0mtup3\u001b[0m\u001b[1;33m[\u001b[0m\u001b[1;36m5\u001b[0m\u001b[1;33m]\u001b[0m\u001b[1;33m=\u001b[0m\u001b[1;34m'Banana'\u001b[0m\u001b[1;33m\u001b[0m\u001b[1;33m\u001b[0m\u001b[0m\n\u001b[0m",
      "\u001b[1;31mTypeError\u001b[0m: 'tuple' object does not support item assignment"
     ]
    }
   ],
   "source": [
    "tup3[5]='Banana'"
   ]
  },
  {
   "cell_type": "code",
   "execution_count": 57,
   "id": "6116860a",
   "metadata": {},
   "outputs": [
    {
     "data": {
      "text/plain": [
       "9"
      ]
     },
     "execution_count": 57,
     "metadata": {},
     "output_type": "execute_result"
    }
   ],
   "source": [
    "len(tup3)"
   ]
  },
  {
   "cell_type": "markdown",
   "id": "4ab77f0c",
   "metadata": {},
   "source": [
    "- There are 4 in-built method that we can apply on any sequene\n",
    "\n",
    "1. len()\n",
    "2. max()\n",
    "3. min()\n",
    "4. sum()"
   ]
  },
  {
   "cell_type": "code",
   "execution_count": 59,
   "id": "f27df3d6",
   "metadata": {},
   "outputs": [
    {
     "data": {
      "text/plain": [
       "6"
      ]
     },
     "execution_count": 59,
     "metadata": {},
     "output_type": "execute_result"
    }
   ],
   "source": [
    "tup1 = (1,2,3,4,5,6)\n",
    "max(tup1)"
   ]
  },
  {
   "cell_type": "code",
   "execution_count": 60,
   "id": "2b530f24",
   "metadata": {},
   "outputs": [
    {
     "data": {
      "text/plain": [
       "11"
      ]
     },
     "execution_count": 60,
     "metadata": {},
     "output_type": "execute_result"
    }
   ],
   "source": [
    "tup2=(7,3,5,7,3,2,5,7,8,3,11)\n",
    "max(tup2)"
   ]
  },
  {
   "cell_type": "code",
   "execution_count": 61,
   "id": "7bc8ebba",
   "metadata": {},
   "outputs": [
    {
     "data": {
      "text/plain": [
       "2"
      ]
     },
     "execution_count": 61,
     "metadata": {},
     "output_type": "execute_result"
    }
   ],
   "source": [
    "min(tup2)"
   ]
  },
  {
   "cell_type": "code",
   "execution_count": 62,
   "id": "ad200352",
   "metadata": {},
   "outputs": [
    {
     "data": {
      "text/plain": [
       "61"
      ]
     },
     "execution_count": 62,
     "metadata": {},
     "output_type": "execute_result"
    }
   ],
   "source": [
    "sum(tup2)"
   ]
  },
  {
   "cell_type": "code",
   "execution_count": 64,
   "id": "21a2ceda",
   "metadata": {},
   "outputs": [
    {
     "name": "stdout",
     "output_type": "stream",
     "text": [
      "Lenght of List 1 is :  12\n",
      "Max of List 1 is :  10\n",
      "Min of List 1 is :  1\n",
      "Sum of List 1 is :  69\n"
     ]
    }
   ],
   "source": [
    "list1 = [1,2,4,6,7,8,3,5,6,8,9,10]\n",
    "print('Lenght of List 1 is : ',len(list1))\n",
    "print('Max of List 1 is : ',max(list1))\n",
    "print('Min of List 1 is : ',min(list1))\n",
    "print('Sum of List 1 is : ',sum(list1))"
   ]
  },
  {
   "cell_type": "code",
   "execution_count": 65,
   "id": "f30a081c",
   "metadata": {},
   "outputs": [
    {
     "name": "stdout",
     "output_type": "stream",
     "text": [
      "(1, 2, 3, 4, 5, 6)\n"
     ]
    }
   ],
   "source": [
    "# Concatenation in Tuple\n",
    "\n",
    "tup1 = (1,2,3)\n",
    "tup2 = (4,5,6)\n",
    "\n",
    "tup3 = tup1 + tup2\n",
    "print(tup3)"
   ]
  },
  {
   "cell_type": "code",
   "execution_count": null,
   "id": "182fdacf",
   "metadata": {},
   "outputs": [],
   "source": [
    "# Repeatation in Tuple\n",
    "\n",
    "tup4 = (1,2,3)\n",
    "tup4"
   ]
  }
 ],
 "metadata": {
  "kernelspec": {
   "display_name": "Python 3 (ipykernel)",
   "language": "python",
   "name": "python3"
  },
  "language_info": {
   "codemirror_mode": {
    "name": "ipython",
    "version": 3
   },
   "file_extension": ".py",
   "mimetype": "text/x-python",
   "name": "python",
   "nbconvert_exporter": "python",
   "pygments_lexer": "ipython3",
   "version": "3.7.4"
  }
 },
 "nbformat": 4,
 "nbformat_minor": 5
}
