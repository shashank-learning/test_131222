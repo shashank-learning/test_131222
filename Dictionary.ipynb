{
 "cells": [
  {
   "cell_type": "markdown",
   "id": "a63988d7",
   "metadata": {},
   "source": [
    "### Dictionary"
   ]
  },
  {
   "cell_type": "markdown",
   "id": "9b10deea",
   "metadata": {},
   "source": [
    "1. Dictionary is sequence datatype\n",
    "2. Dictionary is a mutable datatype\n",
    "3. It holds an element in the form of key:value pair\n",
    "4. In one dictionary, we can have same value, but we can not have duplicate keys\n",
    "5. It is represented with the help of {}"
   ]
  },
  {
   "cell_type": "code",
   "execution_count": 1,
   "id": "10328144",
   "metadata": {},
   "outputs": [],
   "source": [
    "## 1st Method\n",
    "\n",
    "dict1 = {}"
   ]
  },
  {
   "cell_type": "code",
   "execution_count": 2,
   "id": "d8987877",
   "metadata": {},
   "outputs": [
    {
     "name": "stdout",
     "output_type": "stream",
     "text": [
      "{}\n"
     ]
    }
   ],
   "source": [
    "print(dict1)"
   ]
  },
  {
   "cell_type": "code",
   "execution_count": 3,
   "id": "4fb615ab",
   "metadata": {},
   "outputs": [
    {
     "data": {
      "text/plain": [
       "dict"
      ]
     },
     "execution_count": 3,
     "metadata": {},
     "output_type": "execute_result"
    }
   ],
   "source": [
    "type(dict1)"
   ]
  },
  {
   "cell_type": "code",
   "execution_count": 4,
   "id": "51e1aa1a",
   "metadata": {},
   "outputs": [],
   "source": [
    "## 2nd Method\n",
    "\n",
    "dict2 = dict()\n"
   ]
  },
  {
   "cell_type": "code",
   "execution_count": 5,
   "id": "c39a3368",
   "metadata": {},
   "outputs": [
    {
     "name": "stdout",
     "output_type": "stream",
     "text": [
      "{}\n"
     ]
    }
   ],
   "source": [
    "print(dict2)"
   ]
  },
  {
   "cell_type": "code",
   "execution_count": 6,
   "id": "e03f862e",
   "metadata": {},
   "outputs": [
    {
     "data": {
      "text/plain": [
       "dict"
      ]
     },
     "execution_count": 6,
     "metadata": {},
     "output_type": "execute_result"
    }
   ],
   "source": [
    "type(dict2)"
   ]
  },
  {
   "cell_type": "markdown",
   "id": "3cb6e88e",
   "metadata": {},
   "source": [
    "### How to create a dictionary with elements"
   ]
  },
  {
   "cell_type": "code",
   "execution_count": 1,
   "id": "64889393",
   "metadata": {},
   "outputs": [],
   "source": [
    "## In this dictionary, each element has its square values\n",
    "\n",
    "dict1 = {1:1,2:4,3:9,4:16,5:25}"
   ]
  },
  {
   "cell_type": "code",
   "execution_count": 2,
   "id": "1179bb12",
   "metadata": {},
   "outputs": [
    {
     "ename": "KeyError",
     "evalue": "0",
     "output_type": "error",
     "traceback": [
      "\u001b[1;31m---------------------------------------------------------------------------\u001b[0m",
      "\u001b[1;31mKeyError\u001b[0m                                  Traceback (most recent call last)",
      "\u001b[1;32m~\\AppData\\Local\\Temp\\ipykernel_33676\\715492027.py\u001b[0m in \u001b[0;36m<module>\u001b[1;34m\u001b[0m\n\u001b[1;32m----> 1\u001b[1;33m \u001b[0mdict1\u001b[0m\u001b[1;33m[\u001b[0m\u001b[1;36m0\u001b[0m\u001b[1;33m]\u001b[0m\u001b[1;33m\u001b[0m\u001b[1;33m\u001b[0m\u001b[0m\n\u001b[0m",
      "\u001b[1;31mKeyError\u001b[0m: 0"
     ]
    }
   ],
   "source": [
    "dict1[0]"
   ]
  },
  {
   "cell_type": "code",
   "execution_count": 8,
   "id": "3f2d8617",
   "metadata": {},
   "outputs": [
    {
     "name": "stdout",
     "output_type": "stream",
     "text": [
      "{1: 1, 2: 4, 3: 9, 4: 16, 5: 25}\n"
     ]
    }
   ],
   "source": [
    "print(dict1)"
   ]
  },
  {
   "cell_type": "code",
   "execution_count": 9,
   "id": "921c336c",
   "metadata": {},
   "outputs": [
    {
     "data": {
      "text/plain": [
       "5"
      ]
     },
     "execution_count": 9,
     "metadata": {},
     "output_type": "execute_result"
    }
   ],
   "source": [
    "len(dict1)"
   ]
  },
  {
   "cell_type": "code",
   "execution_count": 11,
   "id": "7deeec32",
   "metadata": {},
   "outputs": [
    {
     "data": {
      "text/plain": [
       "16"
      ]
     },
     "execution_count": 11,
     "metadata": {},
     "output_type": "execute_result"
    }
   ],
   "source": [
    "dict1[4]"
   ]
  },
  {
   "cell_type": "code",
   "execution_count": 3,
   "id": "f8f25f96",
   "metadata": {},
   "outputs": [],
   "source": [
    "## In this dictionary, each element has its square values\n",
    "\n",
    "dict1 = {1:1,2:4,3:9,4:16,5:25}"
   ]
  },
  {
   "cell_type": "code",
   "execution_count": 4,
   "id": "ea2b6e89",
   "metadata": {},
   "outputs": [],
   "source": [
    "dict1 = {1:1,2:4,3:9,4:16,5:25,2:8}"
   ]
  },
  {
   "cell_type": "code",
   "execution_count": 5,
   "id": "2ddffc4d",
   "metadata": {},
   "outputs": [
    {
     "data": {
      "text/plain": [
       "25"
      ]
     },
     "execution_count": 5,
     "metadata": {},
     "output_type": "execute_result"
    }
   ],
   "source": [
    "dict1[5]"
   ]
  },
  {
   "cell_type": "code",
   "execution_count": 6,
   "id": "9013bd04",
   "metadata": {},
   "outputs": [
    {
     "data": {
      "text/plain": [
       "8"
      ]
     },
     "execution_count": 6,
     "metadata": {},
     "output_type": "execute_result"
    }
   ],
   "source": [
    "dict1[2]"
   ]
  },
  {
   "cell_type": "code",
   "execution_count": 17,
   "id": "b24cded8",
   "metadata": {},
   "outputs": [],
   "source": [
    "### ENtering the elements in empty dictionary\n",
    "\n",
    "day = {}\n",
    "#day = {1:'Monday',2:'Tuesday',3:'Wednesday'}"
   ]
  },
  {
   "cell_type": "code",
   "execution_count": 18,
   "id": "938994fa",
   "metadata": {},
   "outputs": [],
   "source": [
    "day[1]='Monday'\n",
    "day[2]='Tuesday'\n",
    "day[3]='Wednesday'\n",
    "day[5]='Friday'"
   ]
  },
  {
   "cell_type": "code",
   "execution_count": 19,
   "id": "2f65cc6d",
   "metadata": {},
   "outputs": [
    {
     "name": "stdout",
     "output_type": "stream",
     "text": [
      "{1: 'Monday', 2: 'Tuesday', 3: 'Wednesday', 5: 'Friday'}\n"
     ]
    }
   ],
   "source": [
    "print(day)"
   ]
  },
  {
   "cell_type": "code",
   "execution_count": 20,
   "id": "3f60fa97",
   "metadata": {},
   "outputs": [
    {
     "name": "stdout",
     "output_type": "stream",
     "text": [
      "{1: 'Monday', 2: 'Tuesday', 3: 'Wednesday', 5: 'Friday', 4: 'Thursday'}\n"
     ]
    }
   ],
   "source": [
    "## Dictionary is unordered sequence datatype\n",
    "\n",
    "day[4]='Thursday'\n",
    "print(day)"
   ]
  },
  {
   "cell_type": "markdown",
   "id": "a414049c",
   "metadata": {},
   "source": [
    "### Updating the value in a dictionary"
   ]
  },
  {
   "cell_type": "code",
   "execution_count": 21,
   "id": "8338c97c",
   "metadata": {},
   "outputs": [
    {
     "name": "stdout",
     "output_type": "stream",
     "text": [
      "Before Update {1: 1, 2: 4, 3: 9, 4: 16}\n",
      "After Update {1: 100, 2: 4, 3: 9, 4: 16}\n",
      "{1: 100, 2: 4, 3: 9, 4: 16}\n"
     ]
    }
   ],
   "source": [
    "dict1 = {1:1,2:4,3:9,4:16}\n",
    "print('Before Update',dict1)\n",
    "\n",
    "dict1[1]=100\n",
    "print('After Update',dict1)\n",
    "print(dict1)"
   ]
  },
  {
   "cell_type": "markdown",
   "id": "98f29a99",
   "metadata": {},
   "source": [
    "### Deleting Python Dictionary"
   ]
  },
  {
   "cell_type": "code",
   "execution_count": 23,
   "id": "55b84817",
   "metadata": {},
   "outputs": [],
   "source": [
    "del dict1[1]"
   ]
  },
  {
   "cell_type": "code",
   "execution_count": 24,
   "id": "4e957852",
   "metadata": {},
   "outputs": [
    {
     "name": "stdout",
     "output_type": "stream",
     "text": [
      "{2: 4, 3: 9, 4: 16}\n"
     ]
    }
   ],
   "source": [
    "print(dict1)"
   ]
  },
  {
   "cell_type": "code",
   "execution_count": 25,
   "id": "f1debf0d",
   "metadata": {},
   "outputs": [],
   "source": [
    "del dict1"
   ]
  },
  {
   "cell_type": "code",
   "execution_count": 26,
   "id": "65f5b262",
   "metadata": {},
   "outputs": [
    {
     "ename": "NameError",
     "evalue": "name 'dict1' is not defined",
     "output_type": "error",
     "traceback": [
      "\u001b[1;31m---------------------------------------------------------------------------\u001b[0m",
      "\u001b[1;31mNameError\u001b[0m                                 Traceback (most recent call last)",
      "\u001b[1;32m~\\AppData\\Local\\Temp\\ipykernel_33676\\1762997953.py\u001b[0m in \u001b[0;36m<module>\u001b[1;34m\u001b[0m\n\u001b[1;32m----> 1\u001b[1;33m \u001b[0mprint\u001b[0m\u001b[1;33m(\u001b[0m\u001b[0mdict1\u001b[0m\u001b[1;33m)\u001b[0m\u001b[1;33m\u001b[0m\u001b[1;33m\u001b[0m\u001b[0m\n\u001b[0m",
      "\u001b[1;31mNameError\u001b[0m: name 'dict1' is not defined"
     ]
    }
   ],
   "source": [
    "print(dict1)"
   ]
  },
  {
   "cell_type": "code",
   "execution_count": 27,
   "id": "e4de65e6",
   "metadata": {},
   "outputs": [],
   "source": [
    "dict1 = {'Name':'Virat','Age':34,'Runs':[82,62,50,12]}"
   ]
  },
  {
   "cell_type": "code",
   "execution_count": 28,
   "id": "e5febc48",
   "metadata": {},
   "outputs": [
    {
     "name": "stdout",
     "output_type": "stream",
     "text": [
      "{'Name': 'Virat', 'Age': 34, 'Runs': [82, 62, 50, 12]}\n"
     ]
    }
   ],
   "source": [
    "print(dict1)"
   ]
  },
  {
   "cell_type": "code",
   "execution_count": 30,
   "id": "73095693",
   "metadata": {},
   "outputs": [
    {
     "name": "stdout",
     "output_type": "stream",
     "text": [
      "[82, 62, 50, 12]\n"
     ]
    }
   ],
   "source": [
    "print(dict1['Runs'])"
   ]
  },
  {
   "cell_type": "code",
   "execution_count": 31,
   "id": "3f24ca48",
   "metadata": {},
   "outputs": [],
   "source": [
    "dict2 = {[1,2]:100}"
   ]
  },
  {
   "cell_type": "code",
   "execution_count": 35,
   "id": "b5312711",
   "metadata": {},
   "outputs": [
    {
     "ename": "TypeError",
     "evalue": "unhashable type: 'list'",
     "output_type": "error",
     "traceback": [
      "\u001b[1;31m---------------------------------------------------------------------------\u001b[0m",
      "\u001b[1;31mTypeError\u001b[0m                                 Traceback (most recent call last)",
      "\u001b[1;32m~\\AppData\\Local\\Temp\\ipykernel_33676\\4257789988.py\u001b[0m in \u001b[0;36m<module>\u001b[1;34m\u001b[0m\n\u001b[1;32m----> 1\u001b[1;33m \u001b[0mprint\u001b[0m\u001b[1;33m(\u001b[0m\u001b[0mdict2\u001b[0m\u001b[1;33m[\u001b[0m\u001b[1;33m[\u001b[0m\u001b[1;36m1\u001b[0m\u001b[1;33m,\u001b[0m\u001b[1;36m2\u001b[0m\u001b[1;33m]\u001b[0m\u001b[1;33m]\u001b[0m\u001b[1;33m)\u001b[0m\u001b[1;33m\u001b[0m\u001b[1;33m\u001b[0m\u001b[0m\n\u001b[0m",
      "\u001b[1;31mTypeError\u001b[0m: unhashable type: 'list'"
     ]
    }
   ],
   "source": [
    "print(dict2[[1,2]])"
   ]
  },
  {
   "cell_type": "markdown",
   "id": "6e00b4b7",
   "metadata": {},
   "source": [
    "### Methods in Dictionary"
   ]
  },
  {
   "cell_type": "code",
   "execution_count": 37,
   "id": "d628e5d2",
   "metadata": {},
   "outputs": [],
   "source": [
    "# 1. Clear()\n",
    "\n",
    "dict1 = {'Name':'Virat','Age':34,'Runs':[82,62,50,12],'Venue':'Australia','World Cup':'T20'}"
   ]
  },
  {
   "cell_type": "code",
   "execution_count": 38,
   "id": "7d7a1d07",
   "metadata": {},
   "outputs": [
    {
     "name": "stdout",
     "output_type": "stream",
     "text": [
      "Before Update {'Name': 'Virat', 'Age': 34, 'Runs': [82, 62, 50, 12], 'Venue': 'Australia', 'World Cup': 'T20'}\n",
      "After Update {}\n"
     ]
    }
   ],
   "source": [
    "print('Before Update', dict1)\n",
    "\n",
    "dict1.clear()\n",
    "\n",
    "print('After Update',dict1)"
   ]
  },
  {
   "cell_type": "code",
   "execution_count": 40,
   "id": "d366ee1c",
   "metadata": {},
   "outputs": [
    {
     "name": "stdout",
     "output_type": "stream",
     "text": [
      "Dict2 {'Name': 'Virat', 'Age': 34, 'Runs': [82, 62, 50, 12], 'Venue': 'Australia', 'World Cup': 'T20'}\n"
     ]
    }
   ],
   "source": [
    "# 2. Copy()\n",
    "\n",
    "dict1 = {'Name':'Virat','Age':34,'Runs':[82,62,50,12],'Venue':'Australia','World Cup':'T20'}\n",
    "dict2 = dict1.copy()\n",
    "print('Dict2',dict2)"
   ]
  },
  {
   "cell_type": "code",
   "execution_count": 43,
   "id": "2e82871c",
   "metadata": {},
   "outputs": [
    {
     "name": "stdout",
     "output_type": "stream",
     "text": [
      "Virat\n",
      "Virat\n"
     ]
    }
   ],
   "source": [
    "# 3. get()\n",
    "\n",
    "dict1 = {'Name':'Virat','Age':34,'Runs':[82,62,50,12],'Venue':'Australia','World Cup':'T20'}\n",
    "print(dict1['Name'])\n",
    "\n",
    "print(dict1.get('Name'))"
   ]
  },
  {
   "cell_type": "code",
   "execution_count": 45,
   "id": "30c6ae7f",
   "metadata": {},
   "outputs": [
    {
     "name": "stdout",
     "output_type": "stream",
     "text": [
      "{'Name': 'Virat', 'Age': 34, 'Runs': [82, 62, 50, 12], 'Venue': 'Australia', 'World Cup': 'T20'}\n",
      "dict_items([('Name', 'Virat'), ('Age', 34), ('Runs', [82, 62, 50, 12]), ('Venue', 'Australia'), ('World Cup', 'T20')])\n"
     ]
    }
   ],
   "source": [
    "# 4. items()\n",
    "\n",
    "dict1 = {'Name':'Virat','Age':34,'Runs':[82,62,50,12],'Venue':'Australia','World Cup':'T20'}\n",
    "\n",
    "print(dict1)\n",
    "\n",
    "\n",
    "dict2 = dict1.items()\n",
    "\n",
    "print(dict2)"
   ]
  },
  {
   "cell_type": "code",
   "execution_count": 46,
   "id": "95eaff5f",
   "metadata": {},
   "outputs": [
    {
     "data": {
      "text/plain": [
       "dict_items"
      ]
     },
     "execution_count": 46,
     "metadata": {},
     "output_type": "execute_result"
    }
   ],
   "source": [
    "type(dict2)"
   ]
  },
  {
   "cell_type": "code",
   "execution_count": 47,
   "id": "241b5fbd",
   "metadata": {},
   "outputs": [
    {
     "name": "stdout",
     "output_type": "stream",
     "text": [
      "dict_keys(['Name', 'Age', 'Runs', 'Venue', 'World Cup'])\n"
     ]
    }
   ],
   "source": [
    "# 5. Keys()\n",
    "\n",
    "dict1 = {'Name':'Virat','Age':34,'Runs':[82,62,50,12],'Venue':'Australia','World Cup':'T20'}\n",
    "\n",
    "print(dict1.keys())"
   ]
  },
  {
   "cell_type": "code",
   "execution_count": 48,
   "id": "9693de8c",
   "metadata": {},
   "outputs": [
    {
     "name": "stdout",
     "output_type": "stream",
     "text": [
      "dict_values(['Virat', 34, [82, 62, 50, 12], 'Australia', 'T20'])\n"
     ]
    }
   ],
   "source": [
    "6. #Values()\n",
    "\n",
    "dict1 = {'Name':'Virat','Age':34,'Runs':[82,62,50,12],'Venue':'Australia','World Cup':'T20'}\n",
    "\n",
    "print(dict1.values())"
   ]
  },
  {
   "cell_type": "code",
   "execution_count": 52,
   "id": "98bebacd",
   "metadata": {},
   "outputs": [
    {
     "name": "stdout",
     "output_type": "stream",
     "text": [
      "{1: 1, 2: 4, 3: 9, 4: 16, 5: 25, 6: 36, 7: 49}\n",
      "{4: 16, 5: 25, 6: 36, 7: 49}\n",
      "None\n"
     ]
    }
   ],
   "source": [
    "## 7. Update()\n",
    "\n",
    "dict3 = {1:1,2:4,3:9}\n",
    "dict4 = {4:16,5:25,6:36,7:49}\n",
    "\n",
    "dict5=dict3.update(dict4)\n",
    "print(dict3)\n",
    "print(dict4)\n",
    "print(dict5)"
   ]
  },
  {
   "cell_type": "code",
   "execution_count": null,
   "id": "e276d78c",
   "metadata": {},
   "outputs": [],
   "source": []
  }
 ],
 "metadata": {
  "kernelspec": {
   "display_name": "Python 3 (ipykernel)",
   "language": "python",
   "name": "python3"
  },
  "language_info": {
   "codemirror_mode": {
    "name": "ipython",
    "version": 3
   },
   "file_extension": ".py",
   "mimetype": "text/x-python",
   "name": "python",
   "nbconvert_exporter": "python",
   "pygments_lexer": "ipython3",
   "version": "3.7.4"
  }
 },
 "nbformat": 4,
 "nbformat_minor": 5
}
