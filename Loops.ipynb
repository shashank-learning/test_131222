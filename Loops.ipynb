{
 "cells": [
  {
   "cell_type": "markdown",
   "id": "5b3e2142",
   "metadata": {},
   "source": [
    "## Python Loop\n",
    "\n",
    "##### 1. While Loop"
   ]
  },
  {
   "cell_type": "markdown",
   "id": "89e80321",
   "metadata": {},
   "source": [
    "- The while loop in python is used to iterate over a block of code as long as the the test expression is true"
   ]
  },
  {
   "cell_type": "markdown",
   "id": "ef521a6f",
   "metadata": {},
   "source": [
    "## Syntax\n",
    "\n",
    "##### while test_expression:\n",
    "######    Body/Statements"
   ]
  },
  {
   "cell_type": "code",
   "execution_count": 6,
   "id": "c6a350c8",
   "metadata": {},
   "outputs": [
    {
     "name": "stdout",
     "output_type": "stream",
     "text": [
      "2 3 4 5 6 7 8 9 10 11 Exit from Loop\n"
     ]
    }
   ],
   "source": [
    "### Example 1\n",
    "# initialize counter\n",
    "\n",
    "i=1\n",
    "while i <= 10:    #11 <=10   \n",
    "    i = i+1      #11\n",
    "    print(i, end=\" \")\n",
    "print('Exit from Loop')"
   ]
  },
  {
   "cell_type": "markdown",
   "id": "e24218d5",
   "metadata": {},
   "source": [
    "#### While Loop with else"
   ]
  },
  {
   "cell_type": "markdown",
   "id": "e7bca8e4",
   "metadata": {},
   "source": [
    "- A loop can have else block as well. The else part is executed if the items in the sequence used in loop exhausts.\n",
    "- If test condition fails, then else will execute\n",
    "- But if, Break Keyword is used to exit from the loop, In such cases, the else part is ignored"
   ]
  },
  {
   "cell_type": "code",
   "execution_count": 8,
   "id": "9628f8f7",
   "metadata": {},
   "outputs": [
    {
     "name": "stdout",
     "output_type": "stream",
     "text": [
      "Inside Loop\n",
      "Inside Loop\n",
      "Inside Loop\n",
      "Inside Else\n"
     ]
    }
   ],
   "source": [
    "counter = 0\n",
    "while counter <3:   \n",
    "    print('Inside Loop')\n",
    "    #counter = counter+1\n",
    "    counter+=1\n",
    "else:\n",
    "    print('Inside Else')    "
   ]
  },
  {
   "cell_type": "code",
   "execution_count": 9,
   "id": "918bd552",
   "metadata": {},
   "outputs": [
    {
     "name": "stdout",
     "output_type": "stream",
     "text": [
      "Inside Loop\n"
     ]
    }
   ],
   "source": [
    "counter = 0\n",
    "\n",
    "while counter<3:    #1<3\n",
    "    if counter == 1:    #1==1\n",
    "        break\n",
    "    print('Inside Loop')\n",
    "    counter+=1   #1\n",
    "    \n",
    "else:\n",
    "    print('Inside Else')"
   ]
  },
  {
   "cell_type": "markdown",
   "id": "0197cbf9",
   "metadata": {},
   "source": [
    "### For Loop"
   ]
  },
  {
   "cell_type": "markdown",
   "id": "331c3f67",
   "metadata": {},
   "source": [
    "- The for loop in Python is used to iterate over a sequence (list, tuple,string) or any other iterable datatype"
   ]
  },
  {
   "cell_type": "markdown",
   "id": "d2cde262",
   "metadata": {},
   "source": [
    "## Syntax\n",
    "\n",
    "### for variable in sequence:\n",
    "###   Statement"
   ]
  },
  {
   "cell_type": "code",
   "execution_count": 12,
   "id": "cc7d5fff",
   "metadata": {},
   "outputs": [
    {
     "data": {
      "text/plain": [
       "True"
      ]
     },
     "execution_count": 12,
     "metadata": {},
     "output_type": "execute_result"
    }
   ],
   "source": [
    "## Membership Operators - in/not in\n",
    "\n",
    "list1 = [1,2,3,4,5,6,7,8,9,10]\n",
    "\n",
    "100 not in list1"
   ]
  },
  {
   "cell_type": "code",
   "execution_count": 13,
   "id": "e2460b2f",
   "metadata": {},
   "outputs": [
    {
     "name": "stdout",
     "output_type": "stream",
     "text": [
      "1 2 3 4 5 6 7 8 9 10 "
     ]
    }
   ],
   "source": [
    "list1=[1,2,3,4,5,6,7,8,9,10]\n",
    "\n",
    "for i in list1:\n",
    "    print(i,end=\" \")"
   ]
  },
  {
   "cell_type": "code",
   "execution_count": 14,
   "id": "2f112e7c",
   "metadata": {},
   "outputs": [
    {
     "name": "stdout",
     "output_type": "stream",
     "text": [
      "p y t h o n p r o g r a m m i n g "
     ]
    }
   ],
   "source": [
    "for i in 'pythonprogramming':\n",
    "    print(i,end=\" \")"
   ]
  },
  {
   "cell_type": "markdown",
   "id": "75b97904",
   "metadata": {},
   "source": [
    "### Range() Method"
   ]
  },
  {
   "cell_type": "markdown",
   "id": "cb46ef47",
   "metadata": {},
   "source": [
    "- We can generate a sequence of numbers using range() method\n",
    "\n",
    "### Syntax\n",
    "\n",
    "##### range(start,stop,step size)"
   ]
  },
  {
   "cell_type": "code",
   "execution_count": 1,
   "id": "1bdd07cf",
   "metadata": {},
   "outputs": [
    {
     "name": "stdout",
     "output_type": "stream",
     "text": [
      "range(0, 10)\n"
     ]
    }
   ],
   "source": [
    "print(range(10))"
   ]
  },
  {
   "cell_type": "code",
   "execution_count": 16,
   "id": "06d34470",
   "metadata": {},
   "outputs": [
    {
     "name": "stdout",
     "output_type": "stream",
     "text": [
      "[0, 1, 2, 3, 4, 5, 6, 7, 8, 9]\n"
     ]
    }
   ],
   "source": [
    "print(list(range(10)))"
   ]
  },
  {
   "cell_type": "code",
   "execution_count": 17,
   "id": "dbdf249a",
   "metadata": {},
   "outputs": [
    {
     "name": "stdout",
     "output_type": "stream",
     "text": [
      "[0, 1, 2, 3, 4, 5, 6, 7, 8]\n"
     ]
    }
   ],
   "source": [
    "print(list(range(0,9)))"
   ]
  },
  {
   "cell_type": "code",
   "execution_count": 18,
   "id": "98da6149",
   "metadata": {},
   "outputs": [
    {
     "name": "stdout",
     "output_type": "stream",
     "text": [
      "[2, 5, 8, 11, 14, 17]\n"
     ]
    }
   ],
   "source": [
    "print(list(range(2,20,3)))   # 2, 5, 8, 11, 14, 17"
   ]
  },
  {
   "cell_type": "code",
   "execution_count": 2,
   "id": "2de08daf",
   "metadata": {},
   "outputs": [
    {
     "name": "stdout",
     "output_type": "stream",
     "text": [
      "[20, 19, 18, 17, 16, 15, 14, 13, 12, 11, 10, 9, 8, 7, 6, 5, 4, 3]\n"
     ]
    }
   ],
   "source": [
    "print(list(range(20,2,-1)))"
   ]
  },
  {
   "cell_type": "code",
   "execution_count": 19,
   "id": "8e44073b",
   "metadata": {},
   "outputs": [
    {
     "name": "stdout",
     "output_type": "stream",
     "text": [
      "2 X 1 = 2\n",
      "2 X 2 = 4\n",
      "2 X 3 = 6\n",
      "2 X 4 = 8\n",
      "2 X 5 = 10\n",
      "2 X 6 = 12\n",
      "2 X 7 = 14\n",
      "2 X 8 = 16\n",
      "2 X 9 = 18\n",
      "2 X 10 = 20\n"
     ]
    }
   ],
   "source": [
    "for i in range(1,11):\n",
    "    print(2,'X',i,'=',2*i)"
   ]
  },
  {
   "cell_type": "code",
   "execution_count": 4,
   "id": "ede95107",
   "metadata": {},
   "outputs": [
    {
     "name": "stdout",
     "output_type": "stream",
     "text": [
      "Enter the Number : 12\n",
      "12 X 1 = 12\n",
      "12 X 2 = 24\n",
      "12 X 3 = 36\n",
      "12 X 4 = 48\n",
      "12 X 5 = 60\n",
      "12 X 6 = 72\n",
      "12 X 7 = 84\n",
      "12 X 8 = 96\n",
      "12 X 9 = 108\n",
      "12 X 10 = 120\n"
     ]
    }
   ],
   "source": [
    "n=int(input('Enter the Number : '))\n",
    "for i in range(1,11):\n",
    "    print(n,'X',i,'=',n*i)"
   ]
  },
  {
   "cell_type": "markdown",
   "id": "bfadcf88",
   "metadata": {},
   "source": [
    "### for loop with else"
   ]
  },
  {
   "cell_type": "code",
   "execution_count": 7,
   "id": "ee9f7ef1",
   "metadata": {},
   "outputs": [
    {
     "name": "stdout",
     "output_type": "stream",
     "text": [
      "1 2 3 4 5 \n",
      "This is the else with for loop\n"
     ]
    }
   ],
   "source": [
    "for i in range(1,6):\n",
    "    print(i,end=\" \")\n",
    "else:\n",
    "    print('\\nThis is the else with for loop')"
   ]
  },
  {
   "cell_type": "markdown",
   "id": "fe639fcf",
   "metadata": {},
   "source": [
    "### Example"
   ]
  },
  {
   "cell_type": "code",
   "execution_count": 12,
   "id": "fbff8aad",
   "metadata": {},
   "outputs": [
    {
     "name": "stdout",
     "output_type": "stream",
     "text": [
      "Enter the Number : 5\n",
      "120\n"
     ]
    }
   ],
   "source": [
    "## Factorial of a number\n",
    "\n",
    "n=int(input('Enter the Number : '))     #5 => 120\n",
    "f=1\n",
    "i=1\n",
    "while i<=n:           # 6<=5\n",
    "    f=f*i             # f=120\n",
    "    i+=1              # i=6\n",
    "print(f)"
   ]
  },
  {
   "cell_type": "code",
   "execution_count": 1,
   "id": "212ddece",
   "metadata": {},
   "outputs": [
    {
     "name": "stdout",
     "output_type": "stream",
     "text": [
      "Enter the Number : 123\n",
      "3\n"
     ]
    }
   ],
   "source": [
    "## Count the number of a digit in a number Ex.12356 =>5\n",
    "\n",
    "n=int(input('Enter the Number : '))         #123\n",
    "c=0\n",
    "while n!=0:                                 # 0!=0\n",
    "    n=n//10                                  # n= 1.23//10   =>12\n",
    "    c+=1  # c=3\n",
    "    #print(n)\n",
    "print(c)"
   ]
  },
  {
   "cell_type": "code",
   "execution_count": 1,
   "id": "5ebcbad5",
   "metadata": {},
   "outputs": [
    {
     "data": {
      "text/plain": [
       "True"
      ]
     },
     "execution_count": 1,
     "metadata": {},
     "output_type": "execute_result"
    }
   ],
   "source": [
    "0.0123>0"
   ]
  },
  {
   "cell_type": "markdown",
   "id": "8b9f952a",
   "metadata": {},
   "source": [
    "### Break Keyword"
   ]
  },
  {
   "cell_type": "markdown",
   "id": "8345009b",
   "metadata": {},
   "source": [
    "It is used in python, to bring out the program control out of the loop.\n"
   ]
  },
  {
   "cell_type": "code",
   "execution_count": 4,
   "id": "a2e846eb",
   "metadata": {},
   "outputs": [
    {
     "name": "stdout",
     "output_type": "stream",
     "text": [
      "1 2 3 4 \n",
      "I am out of Loop\n"
     ]
    }
   ],
   "source": [
    "for i in range(1,10):    #1,2,3,4,5,6,7,8,9\n",
    "    if i==5:             # 5==5\n",
    "        break\n",
    "    else:\n",
    "        print(i,end=\" \")     #1,2,3,4\n",
    "print('\\nI am out of Loop')"
   ]
  },
  {
   "cell_type": "code",
   "execution_count": 9,
   "id": "5b2cd6c8",
   "metadata": {},
   "outputs": [
    {
     "name": "stdout",
     "output_type": "stream",
     "text": [
      "Enter the Number : 22\n",
      "22 is not a Prime Number\n"
     ]
    }
   ],
   "source": [
    "### WAP to input a number and print it is prime or not\n",
    "\n",
    "n=int(input('Enter the Number : '))         #11\n",
    "for i in range(2,n):\n",
    "    if n%i==0:\n",
    "        print(f'{n} is not a Prime Number')\n",
    "        break\n",
    "else:\n",
    "    print(f\"{n} is a Prime Number\")"
   ]
  },
  {
   "cell_type": "code",
   "execution_count": null,
   "id": "9a455851",
   "metadata": {},
   "outputs": [],
   "source": [
    "1-100\n",
    "Total No. of Prime Numbers are - 25\n",
    "Total No. of Composite Numbers are - 74\n",
    "Unary Number - 1"
   ]
  },
  {
   "cell_type": "markdown",
   "id": "7b3baed1",
   "metadata": {},
   "source": [
    "## Continue Keyword"
   ]
  },
  {
   "cell_type": "markdown",
   "id": "a33146e9",
   "metadata": {},
   "source": [
    "Continue in Python is used to bring the program control to the beginning of the loop"
   ]
  },
  {
   "cell_type": "code",
   "execution_count": 10,
   "id": "24aa21ef",
   "metadata": {},
   "outputs": [
    {
     "name": "stdout",
     "output_type": "stream",
     "text": [
      "1 2 3 4 6 7 8 9 10 "
     ]
    }
   ],
   "source": [
    "for i in range(1,11):\n",
    "    if i==5:\n",
    "        continue\n",
    "    print(i,end=\" \")"
   ]
  },
  {
   "cell_type": "code",
   "execution_count": null,
   "id": "29bda8f5",
   "metadata": {},
   "outputs": [],
   "source": []
  }
 ],
 "metadata": {
  "kernelspec": {
   "display_name": "Python 3 (ipykernel)",
   "language": "python",
   "name": "python3"
  },
  "language_info": {
   "codemirror_mode": {
    "name": "ipython",
    "version": 3
   },
   "file_extension": ".py",
   "mimetype": "text/x-python",
   "name": "python",
   "nbconvert_exporter": "python",
   "pygments_lexer": "ipython3",
   "version": "3.7.4"
  }
 },
 "nbformat": 4,
 "nbformat_minor": 5
}
